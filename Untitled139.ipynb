{
  "nbformat": 4,
  "nbformat_minor": 0,
  "metadata": {
    "colab": {
      "provenance": [],
      "gpuType": "T4",
      "authorship_tag": "ABX9TyN85dmcNLqzTYvM9ViyGppd",
      "include_colab_link": true
    },
    "kernelspec": {
      "name": "python3",
      "display_name": "Python 3"
    },
    "language_info": {
      "name": "python"
    },
    "accelerator": "GPU"
  },
  "cells": [
    {
      "cell_type": "markdown",
      "metadata": {
        "id": "view-in-github",
        "colab_type": "text"
      },
      "source": [
        "<a href=\"https://colab.research.google.com/github/ZeinabRahbar/GCNRW-Graph-Convolutional-Network-With-Random-Weights-/blob/main/Untitled139.ipynb\" target=\"_parent\"><img src=\"https://colab.research.google.com/assets/colab-badge.svg\" alt=\"Open In Colab\"/></a>"
      ]
    },
    {
      "cell_type": "code",
      "source": [
        "%cd sample_data\n",
        "!unzip /content/sample_data/amazon.zip\n",
        "\n",
        "\n",
        "import os\n",
        "from PIL import Image\n",
        "import torch\n",
        "import torch.utils.data as data\n",
        "import numpy as np\n",
        "\n",
        "class OfficeCaltechAmazonDataset(data.Dataset):\n",
        "    \"\"\"Office-Caltech-Amazon dataset.\"\"\"\n",
        "\n",
        "    def __init__(self, dataset_path, fold=0, train=True, samples_per_epoch=100, device='cpu', full=False):\n",
        "        self.dataset_path = dataset_path\n",
        "        self.fold = fold\n",
        "        self.train = train\n",
        "        self.samples_per_epoch = samples_per_epoch\n",
        "        self.device = device\n",
        "        self.full = full\n",
        "\n",
        "        self.classes, self.class_to_idx = self._find_classes()\n",
        "        self.data, self.targets = self._load_dataset()\n",
        "\n",
        "        self.n_features = self.data.shape[-1]\n",
        "        self.num_classes = len(self.classes)\n",
        "\n",
        "        self.X = self.data[:, :, self.fold].float().to(device)\n",
        "        self.y = self.targets[:, self.fold].long().to(device)\n",
        "\n",
        "        if self.train:\n",
        "            self.mask = torch.ones(self.X.shape[0]).to(device)\n",
        "        else:\n",
        "            self.mask = torch.zeros(self.X.shape[0]).to(device)\n",
        "\n",
        "    def _find_classes(self):\n",
        "        classes = [d.name for d in os.scandir(self.dataset_path) if d.is_dir()]\n",
        "        classes.sort()\n",
        "        class_to_idx = {cls_name: i for i, cls_name in enumerate(classes)}\n",
        "        return classes, class_to_idx\n",
        "\n",
        "    def _load_dataset(self):\n",
        "        data = []\n",
        "        targets = []\n",
        "\n",
        "        for class_name in self.classes:\n",
        "            class_path = os.path.join(self.dataset_path, class_name)\n",
        "            images = os.listdir(class_path)\n",
        "\n",
        "            for image_name in images:\n",
        "                image_path = os.path.join(class_path, image_name)\n",
        "                image = Image.open(image_path)\n",
        "                image = image.resize((900, 300))  # Resize the image to match the Tadpole dataset shape\n",
        "                image = torch.tensor(np.array(image), dtype=torch.float32).permute(2, 0, 1)\n",
        "\n",
        "                data.append(image)\n",
        "                targets.append(self.class_to_idx[class_name])\n",
        "\n",
        "        return torch.stack(data), torch.tensor(targets).unsqueeze(1)\n",
        "\n",
        "    def __len__(self):\n",
        "        return self.samples_per_epoch\n",
        "\n",
        "    def __getitem__(self, idx):\n",
        "        return self.X[idx], self.y[idx], self.mask[idx], [[]]\n",
        "\n",
        "data = OfficeCaltechAmazonDataset(dataset_path='/content/sample_data')\n",
        "\n",
        "import pickle\n",
        "\n",
        "# Pickle the object and save it to a file\n",
        "with open('caltech_amazon.pickle', 'wb') as file:\n",
        "    pickle.dump(data, file)\n",
        "\n",
        "\n"
      ],
      "metadata": {
        "colab": {
          "base_uri": "https://localhost:8080/",
          "height": 436
        },
        "id": "zFGteUemVMv_",
        "outputId": "c9d6f611-51ad-4d21-d784-4045dec02108"
      },
      "execution_count": 1,
      "outputs": [
        {
          "output_type": "stream",
          "name": "stdout",
          "text": [
            "/content/sample_data\n",
            "Archive:  /content/sample_data/amazon.zip\n",
            "replace backpack/frame_0001.jpg? [y]es, [n]o, [A]ll, [N]one, [r]ename: "
          ]
        },
        {
          "output_type": "error",
          "ename": "KeyboardInterrupt",
          "evalue": "ignored",
          "traceback": [
            "\u001b[0;31m---------------------------------------------------------------------------\u001b[0m",
            "\u001b[0;31mKeyboardInterrupt\u001b[0m                         Traceback (most recent call last)",
            "\u001b[0;32m<ipython-input-1-38963d06744b>\u001b[0m in \u001b[0;36m<cell line: 7>\u001b[0;34m()\u001b[0m\n\u001b[1;32m      5\u001b[0m \u001b[0;32mimport\u001b[0m \u001b[0mos\u001b[0m\u001b[0;34m\u001b[0m\u001b[0;34m\u001b[0m\u001b[0m\n\u001b[1;32m      6\u001b[0m \u001b[0;32mfrom\u001b[0m \u001b[0mPIL\u001b[0m \u001b[0;32mimport\u001b[0m \u001b[0mImage\u001b[0m\u001b[0;34m\u001b[0m\u001b[0;34m\u001b[0m\u001b[0m\n\u001b[0;32m----> 7\u001b[0;31m \u001b[0;32mimport\u001b[0m \u001b[0mtorch\u001b[0m\u001b[0;34m\u001b[0m\u001b[0;34m\u001b[0m\u001b[0m\n\u001b[0m\u001b[1;32m      8\u001b[0m \u001b[0;32mimport\u001b[0m \u001b[0mtorch\u001b[0m\u001b[0;34m.\u001b[0m\u001b[0mutils\u001b[0m\u001b[0;34m.\u001b[0m\u001b[0mdata\u001b[0m \u001b[0;32mas\u001b[0m \u001b[0mdata\u001b[0m\u001b[0;34m\u001b[0m\u001b[0;34m\u001b[0m\u001b[0m\n\u001b[1;32m      9\u001b[0m \u001b[0;32mimport\u001b[0m \u001b[0mnumpy\u001b[0m \u001b[0;32mas\u001b[0m \u001b[0mnp\u001b[0m\u001b[0;34m\u001b[0m\u001b[0;34m\u001b[0m\u001b[0m\n",
            "\u001b[0;32m/usr/local/lib/python3.10/dist-packages/torch/__init__.py\u001b[0m in \u001b[0;36m<module>\u001b[0;34m\u001b[0m\n\u001b[1;32m    227\u001b[0m     \u001b[0;32mif\u001b[0m \u001b[0mUSE_GLOBAL_DEPS\u001b[0m\u001b[0;34m:\u001b[0m\u001b[0;34m\u001b[0m\u001b[0;34m\u001b[0m\u001b[0m\n\u001b[1;32m    228\u001b[0m         \u001b[0m_load_global_deps\u001b[0m\u001b[0;34m(\u001b[0m\u001b[0;34m)\u001b[0m\u001b[0;34m\u001b[0m\u001b[0;34m\u001b[0m\u001b[0m\n\u001b[0;32m--> 229\u001b[0;31m     \u001b[0;32mfrom\u001b[0m \u001b[0mtorch\u001b[0m\u001b[0;34m.\u001b[0m\u001b[0m_C\u001b[0m \u001b[0;32mimport\u001b[0m \u001b[0;34m*\u001b[0m  \u001b[0;31m# noqa: F403\u001b[0m\u001b[0;34m\u001b[0m\u001b[0;34m\u001b[0m\u001b[0m\n\u001b[0m\u001b[1;32m    230\u001b[0m \u001b[0;34m\u001b[0m\u001b[0m\n\u001b[1;32m    231\u001b[0m \u001b[0;31m# Appease the type checker; ordinarily this binding is inserted by the\u001b[0m\u001b[0;34m\u001b[0m\u001b[0;34m\u001b[0m\u001b[0m\n",
            "\u001b[0;31mKeyboardInterrupt\u001b[0m: "
          ]
        }
      ]
    },
    {
      "cell_type": "code",
      "source": [
        "# Read the serialized data from the file\n",
        "with open('caltech_amazon.pickle', 'rb') as file:\n",
        "    loaded_data = pickle.load(file)\n",
        "\n",
        "# Print the deserialized object\n",
        "print(loaded_data)"
      ],
      "metadata": {
        "id": "aPBUGJz_gw17"
      },
      "execution_count": null,
      "outputs": []
    }
  ]
}